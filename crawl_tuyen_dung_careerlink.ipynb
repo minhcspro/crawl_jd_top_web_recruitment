{
 "cells": [
  {
   "cell_type": "code",
   "execution_count": 1,
   "metadata": {},
   "outputs": [],
   "source": [
    "\n",
    "# pip3 install cloudscraper beautifulsoup4\n",
    "from bs4 import BeautifulSoup\n",
    "import cloudscraper\n",
    "import pandas as pd\n",
    "import time\n",
    "import re\n",
    "from deep_translator import GoogleTranslator\n",
    "from unidecode import unidecode\n",
    "import json\n",
    "from datetime import datetime, timedelta\n",
    "import random\n",
    "import requests\n",
    "from langdetect import detect\n",
    "import numpy as np"
   ]
  },
  {
   "cell_type": "code",
   "execution_count": 2,
   "metadata": {},
   "outputs": [],
   "source": [
    "def convert_to_camel_case(text):\n",
    "    # Chuyển tất cả chữ về thường\n",
    "    text = unidecode(text.lower())\n",
    "    # Tách các từ dựa trên khoảng trắng\n",
    "    words = text.split()\n",
    "    # Viết hoa chữ cái đầu của từng từ và nối chúng lại\n",
    "    camel_case = ''.join(word.capitalize() for word in words)\n",
    "    return camel_case"
   ]
  },
  {
   "cell_type": "code",
   "execution_count": 3,
   "metadata": {},
   "outputs": [],
   "source": [
    "# Hàm để xử lý kiểu dữ liệu không serializable\n",
    "def default_converter(o):\n",
    "    if isinstance(o, (np.integer, np.floating)):  # Xử lý kiểu số NumPy\n",
    "        return int(o)\n",
    "    elif isinstance(o, (np.ndarray,)):           # Xử lý mảng NumPy (nếu có)\n",
    "        return o.tolist()\n",
    "    return str(o)  # Xử lý các kiểu dữ liệu khác"
   ]
  },
  {
   "cell_type": "code",
   "execution_count": 4,
   "metadata": {},
   "outputs": [],
   "source": [
    "def get_url(soup):\n",
    "    canonical_tag = soup.find('link', rel='canonical')\n",
    "    # Lấy giá trị của thuộc tính href\n",
    "    if canonical_tag and 'href' in canonical_tag.attrs:\n",
    "        canonical_url = canonical_tag['href']\n",
    "        return canonical_url\n",
    "    return None"
   ]
  },
  {
   "cell_type": "code",
   "execution_count": 5,
   "metadata": {},
   "outputs": [],
   "source": [
    "def get_url_id(url):\n",
    "    # Regex để tìm ID trong URL\n",
    "    match = re.search(r\"\\d+$\", url)\n",
    "    if match:\n",
    "        return int(match.group())  # Trả về ID tìm thấy\n",
    "    return None"
   ]
  },
  {
   "cell_type": "code",
   "execution_count": 6,
   "metadata": {},
   "outputs": [],
   "source": [
    "def get_heading(soup):\n",
    "    heading1 = soup.find('h1', class_ = \"job-title mb-0\")\n",
    "    if heading1:\n",
    "        content = heading1.get_text(separator=' ', strip=True)\n",
    "        return content\n",
    "    return None"
   ]
  },
  {
   "cell_type": "code",
   "execution_count": 7,
   "metadata": {},
   "outputs": [],
   "source": [
    "def get_ten_cong_ty(soup):\n",
    "    id = None\n",
    "    url = None\n",
    "    name = None\n",
    "    data = soup.find('p', class_=\"org-name mb-2\")\n",
    "    if data:\n",
    "        url = 'https://www.careerlink.vn' + data.find('a').get('href')\n",
    "        name = data.text.strip()\n",
    "        if url:\n",
    "            id = get_url_id(url)\n",
    "    return url, id, name\n"
   ]
  },
  {
   "cell_type": "code",
   "execution_count": 8,
   "metadata": {},
   "outputs": [],
   "source": [
    "def load_df():\n",
    "    return pd.read_excel(r'C:\\Users\\My_Pc\\Desktop\\Thư Viện Pháp Luật final\\Crawl tuyển dụng\\Code\\data_id\\coquanhanhchinh.xlsx', engine='openpyxl')\n"
   ]
  },
  {
   "cell_type": "code",
   "execution_count": 9,
   "metadata": {},
   "outputs": [],
   "source": [
    "# Tìm kiếm với nhiều điều kiện\n",
    "def find_id_tinhThanh(name, df):\n",
    "    # print(name)\n",
    "    result = df[\n",
    "        df['UnitName'].str.lower().str.contains(name.lower()) &\n",
    "        (df['ParentId'] == 0) &\n",
    "        (df['Level'] == 1)\n",
    "    ]\n",
    "\n",
    "    if not result.empty:\n",
    "        id_value = result.iloc[0]['Id']\n",
    "        # parent_id_value = result.iloc[0]['ParentId']\n",
    "        # level_value = result.iloc[0]['Level']\n",
    "        name_value = result.iloc[0]['UnitName']\n",
    "        # print(f\"Id: {id_value}, ParentId: {parent_id_value}, Level: {level_value}\")\n",
    "        return id_value, name_value\n",
    "    return None, None\n"
   ]
  },
  {
   "cell_type": "code",
   "execution_count": 10,
   "metadata": {},
   "outputs": [],
   "source": [
    "# Tìm kiếm với nhiều điều kiện\n",
    "def find_id_tinhQuanHuyen(name, ParentId, df):\n",
    "    if not name:\n",
    "        return None, None\n",
    "    name = name.replace(\"Quận 2\", \"Thủ Đức\")\n",
    "    result = df[\n",
    "        df['UnitName'].str.lower().str.contains(name.lower()) &\n",
    "        (df['ParentId'] == ParentId) &\n",
    "        (df['Level'] == 2)\n",
    "    ]\n",
    "\n",
    "    if not result.empty:\n",
    "        id_value = result.iloc[0]['Id']\n",
    "        name_value = result.iloc[0]['UnitName']\n",
    "        # print(f\"Id: {id_value}, ParentId: {parent_id_value}, Level: {level_value}\")\n",
    "        return id_value, name_value\n",
    "    return None, None\n"
   ]
  },
  {
   "cell_type": "code",
   "execution_count": 11,
   "metadata": {},
   "outputs": [],
   "source": [
    "def get_dia_chi(soup):\n",
    "    df = load_df()\n",
    "    output = []\n",
    "    data = soup.find_all('div', id=\"job-location\")\n",
    "    if data:\n",
    "        for temp in data:\n",
    "            dict = {}\n",
    "            if temp:\n",
    "                tinhThanh = temp.find('a', class_=\"text-reset font-weight-bold\")\n",
    "                if tinhThanh:\n",
    "                    IdTinhThanh = find_id_tinhThanh(tinhThanh.text.strip(), df)\n",
    "                    quanHuyen = re.sub(r\",\\s*$\", \"\", temp.find('span', class_ = \"mr-1\").text.strip())\n",
    "                    IdQuanHuyen = find_id_tinhQuanHuyen(quanHuyen, IdTinhThanh[0], df)\n",
    "                    dict ={\n",
    "                        'IdTinhThanh': IdTinhThanh[0] or None,\n",
    "                        'TinhThanh': IdTinhThanh[-1] or None,\n",
    "                        'IdQuanHuyen': IdQuanHuyen[0] or None,\n",
    "                        'TinhQuanHuyen':IdQuanHuyen[-1] or None,\n",
    "                        'DiaChi': None,\n",
    "                    }\n",
    "                    output.append(dict)\n",
    "                else:\n",
    "                    tinhThanh = temp.find('a', class_=\"text-reset\")\n",
    "                    if tinhThanh:\n",
    "                        IdTinhThanh = find_id_tinhThanh(tinhThanh.text.strip(), df)\n",
    "                        # quanHuyen = re.sub(r\",\\s*$\", \"\", temp.find('span', class_ = \"mr-1\").text.strip())\n",
    "                        # IdQuanHuyen = find_id_tinhQuanHuyen(quanHuyen, IdTinhThanh[0], df)\n",
    "                        dict ={\n",
    "                            'IdTinhThanh': IdTinhThanh[0] or None,\n",
    "                            'TinhThanh': IdTinhThanh[-1] or None,\n",
    "                            'IdQuanHuyen': None,\n",
    "                            'TinhQuanHuyen':None,\n",
    "                            'DiaChi': None,\n",
    "                        }\n",
    "                        output.append(dict)\n",
    "    return output"
   ]
  },
  {
   "cell_type": "code",
   "execution_count": 12,
   "metadata": {},
   "outputs": [],
   "source": [
    "def get_muc_luong(soup):\n",
    "    data = soup.find('span', class_=\"text-primary\")\n",
    "    if data:\n",
    "        return data.text.strip()\n",
    "    return None"
   ]
  },
  {
   "cell_type": "code",
   "execution_count": 13,
   "metadata": {},
   "outputs": [],
   "source": [
    "def get_kinh_nghiem(soup):\n",
    "    data = soup.find_all('div', class_=\"d-flex align-items-center mb-2\")\n",
    "    if data:\n",
    "        for temp in data:\n",
    "            if temp and temp.find('i', class_=\"cli-suitcase-simple d-flex mr-2\"):\n",
    "                return temp.text.strip()\n",
    "    return None"
   ]
  },
  {
   "cell_type": "code",
   "execution_count": 14,
   "metadata": {},
   "outputs": [],
   "source": [
    "def get_ngay_dang(soup):\n",
    "    data = soup.find('span', class_=\"d-none d-md-block mr-1\")\n",
    "    if data:\n",
    "        return re.search(r\"\\d{2}-\\d{2}-\\d{4}\", data.parent.text.strip()).group().replace('-', '/')\n",
    "    return None"
   ]
  },
  {
   "cell_type": "code",
   "execution_count": 15,
   "metadata": {},
   "outputs": [],
   "source": [
    "def ngay_het_han(soup):\n",
    "    data = soup.find('div', class_=\"day-expired d-flex align-items-center\")\n",
    "    if data:\n",
    "        match = re.search(r\"\\d+\", data.text.strip(), flags=re.IGNORECASE)\n",
    "        if match:\n",
    "            return (datetime.now().date() + timedelta(days= int(match.group()))).strftime(\"%d/%m/%Y\")\n",
    "        elif re.search(r\"hôm nay\", data.text.strip(), flags=re.IGNORECASE):\n",
    "            return datetime.now().date().strftime(\"%d/%m/%Y\")\n",
    "    return None"
   ]
  },
  {
   "cell_type": "code",
   "execution_count": 36,
   "metadata": {},
   "outputs": [],
   "source": [
    "def get_mo_ta_cong_viec(soup):\n",
    "    data = soup.find('div', class_=\"pt-4\", id=\"section-job-description\")\n",
    "    if data:\n",
    "        return data.find('div', class_=\"rich-text-content\").text.strip()\n",
    "    # .decode_contents().strip()\n",
    "    return None"
   ]
  },
  {
   "cell_type": "code",
   "execution_count": 41,
   "metadata": {},
   "outputs": [],
   "source": [
    "def get_phuc_loi(soup):\n",
    "    data = soup.find('div', class_=\"pt-4\", id=\"section-job-benefits\")\n",
    "    if data:\n",
    "        data1 = data.find_all('img', alt=\"Benefit Icon\")\n",
    "        if data1:\n",
    "            for temp in data1:\n",
    "                temp.decompose()\n",
    "        return data.find('div', class_=\"my-3\").text.strip()\n",
    "    # .decode_contents().strip()\n",
    "    return None"
   ]
  },
  {
   "cell_type": "code",
   "execution_count": 37,
   "metadata": {},
   "outputs": [],
   "source": [
    "def get_exp_skill(soup):\n",
    "    data = soup.find('div', class_=\"raw-content rich-text-content\")\n",
    "    if data:\n",
    "        return data.text.strip()\n",
    "    # .decode_contents().strip().text\n",
    "    return None"
   ]
  },
  {
   "cell_type": "code",
   "execution_count": 19,
   "metadata": {},
   "outputs": [],
   "source": [
    "def get_mo_ta(soup):\n",
    "    dict = {}\n",
    "    data = soup.find_all('div', class_=\"job-summary-item d-block\")\n",
    "    if data:\n",
    "        for temp in data:\n",
    "            dict[convert_to_camel_case(temp.find('div', class_ = \"my-0 summary-label\").text.strip().replace('\\n', ''))] = (temp.find('div', class_ = \"font-weight-bolder\").text.strip().replace('\\n', ''))\n",
    "        return dict     \n",
    "    return None   "
   ]
  },
  {
   "cell_type": "code",
   "execution_count": 20,
   "metadata": {},
   "outputs": [],
   "source": [
    "def get_phone_number(soup):\n",
    "    data = soup.find_all('li', class_=\"d-flex align-items-start\")\n",
    "    if data:\n",
    "        for temp in data:\n",
    "            if temp and temp.find('i', class_=\"cli-phone\"):\n",
    "                return temp.find('span', class_=\"label mr-2 text-nowrap align-seft-center\").text.strip()\n",
    "    return None"
   ]
  },
  {
   "cell_type": "code",
   "execution_count": 21,
   "metadata": {},
   "outputs": [],
   "source": [
    "def get_lien_he(soup):\n",
    "    ten_lien_he = None\n",
    "    dia_chi = None\n",
    "    ghi_chu = None\n",
    "    phone_number = get_phone_number(soup) or None\n",
    "    data = soup.find('ul', class_=\"list-unstyled contact-person rounded-lg p-3 m-0\")\n",
    "    if data:\n",
    "        ten_lien_he = data.find('span', class_=\"person-name font-weight-bolder m-0 align-seft-center\").text.strip()\n",
    "        data1 = data.find_all('li', class_=\"d-flex align-items-start\")\n",
    "        if data1:\n",
    "            for temp in data1:\n",
    "                if temp and temp.find('i', class_ =\"cli-location\", style=\"color: #059669; padding-left: 0.25px\"):\n",
    "                    dia_chi = temp.find('span', class_=\"align-seft-center\").text.strip().replace('\\n', '')\n",
    "        ghi_chu = data.find('div', class_=\"rich-text-content\").decode_contents().strip()\n",
    "    dict = {\n",
    "        'TenLienHe': ten_lien_he,\n",
    "        'SoDienThoai': phone_number,\n",
    "        'DiaChi': dia_chi,\n",
    "        'GhiChu': ghi_chu\n",
    "    }\n",
    "    return dict\n"
   ]
  },
  {
   "cell_type": "code",
   "execution_count": 22,
   "metadata": {},
   "outputs": [],
   "source": [
    "def get_key_word(soup):\n",
    "    output = []\n",
    "    data = soup.find_all('a', class_=\"chip border-0 mr-2 mb-2\")\n",
    "    if data:\n",
    "        for temp in data:\n",
    "            output.append(temp.text.strip())\n",
    "    return output"
   ]
  },
  {
   "cell_type": "code",
   "execution_count": 23,
   "metadata": {},
   "outputs": [],
   "source": [
    "def convert_value(value):\n",
    "    if not value or value == 'None':\n",
    "        return None\n",
    "    try:\n",
    "        # Kiểm tra nếu là số nguyên\n",
    "        return int(value)\n",
    "    except ValueError:\n",
    "        try:\n",
    "            # Kiểm tra nếu là số thập phân\n",
    "            return float(value)\n",
    "        except ValueError:\n",
    "            # Nếu không phải số, trả về dưới dạng chuỗi\n",
    "            return str(value)\n"
   ]
  },
  {
   "cell_type": "code",
   "execution_count": 24,
   "metadata": {},
   "outputs": [],
   "source": [
    "def convert_number(value):\n",
    "    # try:\n",
    "        if not value:\n",
    "            return None\n",
    "        number = float(value.replace(\",\", \"\"))\n",
    "        # Kiểm tra nếu là số nguyên\n",
    "        if number.is_integer():\n",
    "            return int(number)\n",
    "        else:\n",
    "            return number  # Trả về float\n",
    "    # except Exception:\n",
    "    #     return value  # Trả về giá trị gốc nếu có lỗi"
   ]
  },
  {
   "cell_type": "code",
   "execution_count": 25,
   "metadata": {},
   "outputs": [],
   "source": [
    "def extract_number_salary(text):\n",
    "    # Biểu thức chính quy tìm kiếm số, bao gồm số có dấu phẩy phân cách\n",
    "    match = re.search(r'[\\d,]+', text)\n",
    "    if match:\n",
    "        # Loại bỏ dấu ',' và trả về số dưới dạng float\n",
    "        number = match.group(0)\n",
    "        return convert_number(number)  # Chuyển đổi thành float\n",
    "    return None"
   ]
  },
  {
   "cell_type": "code",
   "execution_count": 26,
   "metadata": {},
   "outputs": [],
   "source": [
    "def processing_salary(text):\n",
    "    if 'triệu' in text:\n",
    "        don_vi_tien = 'VND'\n",
    "        muc_luong = text.replace('triệu', '')\n",
    "    elif 'USD' in text:\n",
    "        don_vi_tien = 'USD'\n",
    "        muc_luong = text.replace('USD', '')\n",
    "    else:\n",
    "        don_vi_tien = None\n",
    "        muc_luong = text\n",
    "    muc_luong = muc_luong.split('-')\n",
    "    if len(muc_luong) > 1:\n",
    "        muc_luong_den = extract_number_salary(muc_luong[1].strip())\n",
    "        muc_luong_tu = extract_number_salary(muc_luong[0].strip())\n",
    "    else:\n",
    "        if muc_luong[0].strip().lower().startswith('trên') or muc_luong[0].strip().lower().startswith('từ'):\n",
    "            muc_luong_den = 0\n",
    "            muc_luong_tu = extract_number_salary(muc_luong[0])\n",
    "        elif muc_luong[0].strip().lower().startswith('dưới') or muc_luong[0].strip().lower().startswith('tới'):\n",
    "            muc_luong_tu = 0\n",
    "            muc_luong_den = extract_number_salary(muc_luong[0])\n",
    "        else:\n",
    "            muc_luong_tu = 0\n",
    "            muc_luong_den = 0\n",
    "    return muc_luong_tu, muc_luong_den, don_vi_tien"
   ]
  },
  {
   "cell_type": "code",
   "execution_count": 27,
   "metadata": {},
   "outputs": [],
   "source": [
    "def IsThoaThuan(text):\n",
    "    if processing_salary(text) == (0, 0, None):\n",
    "        return True\n",
    "    return False"
   ]
  },
  {
   "cell_type": "code",
   "execution_count": null,
   "metadata": {},
   "outputs": [
    {
     "name": "stdout",
     "output_type": "stream",
     "text": [
      "200\n",
      "200 Cập nhật thông tin thành công. 3022174 1\n",
      "404\n",
      "404\n",
      "404\n",
      "404\n"
     ]
    }
   ],
   "source": [
    "output = []\n",
    "input_data = []\n",
    "for temp in range(0,1000):\n",
    "    while True:\n",
    "        try:\n",
    "            ids = 3022174 - temp\n",
    "            scraper = cloudscraper.create_scraper(\n",
    "                            browser={\n",
    "                                \"browser\": \"chrome\",\n",
    "                                \"platform\": \"windows\",\n",
    "                            },\n",
    "                        )\n",
    "            # specify the target URL\n",
    "            url = f\"https://www.careerlink.vn/tim-viec-lam/truong-phong-kinh-doanh/{ids}\"\n",
    "            time.sleep(3)\n",
    "            response = scraper.get(url)\n",
    "            print(response.status_code)\n",
    "            if response.status_code == 200:\n",
    "                soup = BeautifulSoup(response.text, 'html.parser')\n",
    "                if get_heading(soup):\n",
    "                    data = {\n",
    "                        'JobId': convert_value(get_url_id(get_url(soup))),\n",
    "                        'UrlJob': convert_value(get_url(soup)),\n",
    "                        'JobTitle': convert_value(get_heading(soup)),\n",
    "                        'IdCongTy': convert_value(get_ten_cong_ty(soup)[1]), \n",
    "                        'UrlCongTy': convert_value(get_ten_cong_ty(soup)[0]),\n",
    "                        'TenCongTy': convert_value(get_ten_cong_ty(soup)[2]),\n",
    "                        'DiaDiemLamViec': get_dia_chi(soup),\n",
    "                        'IsThoaThuan': IsThoaThuan(get_muc_luong(soup)),\n",
    "                        'mucluong': get_muc_luong(soup),\n",
    "                        'mucluongfrom': processing_salary(get_muc_luong(soup))[0],\n",
    "                        'mucluongto': processing_salary(get_muc_luong(soup))[1],\n",
    "                        'currency': processing_salary(get_muc_luong(soup))[2],\n",
    "                        'KinhNghiem': convert_value(get_kinh_nghiem(soup)),\n",
    "                        'NgayDangTin': get_ngay_dang(soup),\n",
    "                        'HanNopHoSo': ngay_het_han(soup),\n",
    "                        'MoTaCongViec': get_mo_ta_cong_viec(soup),\n",
    "                        'QuyenLoi': get_phuc_loi(soup),\n",
    "                        'YeuCauKyNang': get_exp_skill(soup),\n",
    "                        'MoTaTomTat': get_mo_ta(soup),\n",
    "                        'ThongTinLienHe': get_lien_he(soup),\n",
    "                        'TuKhoa': get_key_word(soup),\n",
    "                    }\n",
    "                    data_input = (get_heading(soup)) + '\\n' + (get_ten_cong_ty(soup)[2]) +  ' tuyển ' + (get_heading(soup)) + ', mức lương ' + get_muc_luong(soup) + ', kinh nghiệm ' + (get_kinh_nghiem(soup)) + '\\n' + 'Mô tả công việc: ' + '\\n' + get_mo_ta_cong_viec(soup) + '\\nQuyền lợi\\n' + get_phuc_loi(soup) + '\\nYêu cầu\\n' + get_exp_skill(soup)\n",
    "                    # print(data_input)\n",
    "                    input_data.append(data_input)\n",
    "                    output.append(data)\n",
    "                    # print(json.dumps(data, ensure_ascii=False, indent=5, default=default_converter))\n",
    "                    print(response.status_code, \"Cập nhật thông tin thành công.\", ids, len(output))\n",
    "            if response.status_code == 429:\n",
    "                    # print(f\"ID {ids}: Too many requests, retrying...\")\n",
    "                time.sleep(random.randint(1, 5))  # Chờ một khoảng thời gian trước khi thử lại\n",
    "            else:\n",
    "                break  # Thoát khỏi vòng lặp nếu không phải 429\n",
    "        except (requests.exceptions.ConnectionError, requests.exceptions.Timeout) as e:\n",
    "            print(f\"ID {ids}: Lỗi kết nối {e}. Đang thử lại...\")\n",
    "            time.sleep(random.randint(1, 5))  # Chờ thêm trước khi thử lại"
   ]
  },
  {
   "cell_type": "code",
   "execution_count": null,
   "metadata": {},
   "outputs": [
    {
     "data": {
      "text/plain": [
       "{'CapBac',\n",
       " 'GioiTinh',\n",
       " 'HocVan',\n",
       " 'KinhNghiem',\n",
       " 'LoaiCongViec',\n",
       " 'MaViecLam',\n",
       " 'NganhNghe',\n",
       " 'Tuoi'}"
      ]
     },
     "execution_count": 29,
     "metadata": {},
     "output_type": "execute_result"
    }
   ],
   "source": [
    "data_set"
   ]
  },
  {
   "cell_type": "code",
   "execution_count": null,
   "metadata": {},
   "outputs": [],
   "source": [
    "# # Lưu vào tệp JSON\n",
    "with open(r\"C:\\Users\\My_Pc\\Desktop\\Thư Viện Pháp Luật final\\Crawl tuyển dụng\\output_sample\\sample_careerlink_cv_v3.json\", \"w\", encoding=\"utf-8\") as json_file:\n",
    "    json.dump(output, json_file, ensure_ascii=False, indent=5, default=default_converter)"
   ]
  }
 ],
 "metadata": {
  "kernelspec": {
   "display_name": "Minh-AI",
   "language": "python",
   "name": "python3"
  },
  "language_info": {
   "codemirror_mode": {
    "name": "ipython",
    "version": 3
   },
   "file_extension": ".py",
   "mimetype": "text/x-python",
   "name": "python",
   "nbconvert_exporter": "python",
   "pygments_lexer": "ipython3",
   "version": "3.12.4"
  }
 },
 "nbformat": 4,
 "nbformat_minor": 2
}
